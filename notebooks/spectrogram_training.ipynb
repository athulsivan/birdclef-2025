{
 "cells": [
  {
   "cell_type": "markdown",
   "id": "32702777",
   "metadata": {},
   "source": [
    "hese imports bring in:\n",
    "\n",
    "torch, torchvision: For model building and training.\n",
    "\n",
    "PIL: For image loading.\n",
    "\n",
    "pandas: For reading the metadata CSV."
   ]
  },
  {
   "cell_type": "code",
   "execution_count": 1,
   "id": "3646d0bc",
   "metadata": {},
   "outputs": [],
   "source": [
    "import os\n",
    "import torch\n",
    "import torch.nn as nn\n",
    "import torch.optim as optim\n",
    "from torch.utils.data import Dataset, DataLoader\n",
    "from torchvision import models, transforms\n",
    "from PIL import Image\n",
    "import pandas as pd"
   ]
  },
  {
   "cell_type": "code",
   "execution_count": 2,
   "id": "035f99e5",
   "metadata": {},
   "outputs": [
    {
     "name": "stdout",
     "output_type": "stream",
     "text": [
      "False\n",
      "0\n",
      "No CUDA device\n"
     ]
    }
   ],
   "source": [
    "import torch\n",
    "print(torch.cuda.is_available())\n",
    "print(torch.cuda.device_count())\n",
    "\n",
    "if torch.cuda.is_available():\n",
    "    print(torch.cuda.current_device())\n",
    "    print(torch.cuda.get_device_name(torch.cuda.current_device()))\n",
    "else:\n",
    "    print(\"No CUDA device\")"
   ]
  },
  {
   "cell_type": "code",
   "execution_count": 3,
   "id": "20c52905",
   "metadata": {},
   "outputs": [],
   "source": [
    "DATA_DIR = r\"C:\\Users\\athul\\Documents\\GitHub\\birdclef-2025\\data\\processed\\spectrograms\"\n",
    "CSV_PATH = r\"C:\\Users\\athul\\Documents\\GitHub\\birdclef-2025\\data\\processed\\metadata_processed.csv\"\n",
    "BATCH_SIZE = 32\n",
    "NUM_EPOCHS = 10\n",
    "IMG_SIZE = 224\n",
    "NUM_CLASSES = len(pd.read_csv(CSV_PATH)['label'].unique())\n",
    "DEVICE = torch.device(\"cuda\" if torch.cuda.is_available() else \"cpu\")"
   ]
  },
  {
   "cell_type": "markdown",
   "id": "9de224fe",
   "metadata": {},
   "source": [
    "This sets paths and constants:\n",
    "\n",
    "NUM_CLASSES is dynamically determined from the number of unique species.\n",
    "\n",
    "DEVICE is set to GPU if available."
   ]
  },
  {
   "cell_type": "code",
   "execution_count": 4,
   "id": "a2951505",
   "metadata": {},
   "outputs": [],
   "source": [
    "class SpectrogramDataset(Dataset):\n",
    "    def __init__(self, csv_file, transform=None):\n",
    "        self.data = pd.read_csv(csv_file)\n",
    "        self.transform = transform\n",
    "\n",
    "    def __len__(self):\n",
    "        return len(self.data)\n",
    "\n",
    "    def __getitem__(self, idx):\n",
    "        img_path = self.data.iloc[idx]['spectrogram_path']\n",
    "        image = Image.open(img_path).convert(\"RGB\")\n",
    "        label = int(self.data.iloc[idx]['label'])\n",
    "\n",
    "        if self.transform:\n",
    "            image = self.transform(image)\n",
    "\n",
    "        return image, label"
   ]
  },
  {
   "cell_type": "markdown",
   "id": "9e00e068",
   "metadata": {},
   "source": [
    "This class enables loading image-label pairs directly from the metadata file:\n",
    "\n",
    "Each image is read using its full path and transformed.\n",
    "\n",
    "Labels are read as integers."
   ]
  },
  {
   "cell_type": "code",
   "execution_count": 5,
   "id": "8ea563d2",
   "metadata": {},
   "outputs": [],
   "source": [
    "transform = transforms.Compose([\n",
    "    transforms.Resize((IMG_SIZE, IMG_SIZE)),\n",
    "    transforms.ToTensor(),\n",
    "    transforms.Normalize(mean=[0.5, 0.5, 0.5], std=[0.5, 0.5, 0.5])\n",
    "])"
   ]
  },
  {
   "cell_type": "markdown",
   "id": "cd3f0e20",
   "metadata": {},
   "source": [
    "\n",
    "\n",
    "transform = transforms.Compose([\n",
    "    transforms.Resize((IMG_SIZE, IMG_SIZE)),\n",
    "    transforms.ToTensor(),\n",
    "    transforms.Normalize(mean=[0.5, 0.5, 0.5], std=[0.5, 0.5, 0.5])\n",
    "])\n",
    "\n",
    "Resizes all images to 224x224.\n",
    "\n",
    "Normalizes pixel values to [-1, 1]."
   ]
  },
  {
   "cell_type": "code",
   "execution_count": 6,
   "id": "f8353bac",
   "metadata": {},
   "outputs": [],
   "source": [
    "dataset = SpectrogramDataset(CSV_PATH, transform=transform)\n",
    "train_size = int(0.8 * len(dataset))\n",
    "val_size = len(dataset) - train_size\n",
    "train_dataset, val_dataset = torch.utils.data.random_split(dataset, [train_size, val_size])\n",
    "train_loader = DataLoader(train_dataset, batch_size=BATCH_SIZE, shuffle=True, num_workers=4)\n",
    "val_loader = DataLoader(val_dataset, batch_size=BATCH_SIZE, num_workers=4)\n"
   ]
  },
  {
   "cell_type": "markdown",
   "id": "976e3e7a",
   "metadata": {},
   "source": [
    "Dataset is split into 80% training and 20% validation.\n",
    "\n",
    "DataLoader is used to batch and shuffle data efficiently."
   ]
  },
  {
   "cell_type": "code",
   "execution_count": 7,
   "id": "6c62b9c2",
   "metadata": {},
   "outputs": [
    {
     "name": "stderr",
     "output_type": "stream",
     "text": [
      "c:\\Users\\athul\\Documents\\GitHub\\birdclef-2025\\venv\\Lib\\site-packages\\torchvision\\models\\_utils.py:208: UserWarning: The parameter 'pretrained' is deprecated since 0.13 and may be removed in the future, please use 'weights' instead.\n",
      "  warnings.warn(\n",
      "c:\\Users\\athul\\Documents\\GitHub\\birdclef-2025\\venv\\Lib\\site-packages\\torchvision\\models\\_utils.py:223: UserWarning: Arguments other than a weight enum or `None` for 'weights' are deprecated since 0.13 and may be removed in the future. The current behavior is equivalent to passing `weights=ResNet18_Weights.IMAGENET1K_V1`. You can also use `weights=ResNet18_Weights.DEFAULT` to get the most up-to-date weights.\n",
      "  warnings.warn(msg)\n"
     ]
    }
   ],
   "source": [
    "model = models.resnet18(pretrained=True)\n",
    "model.fc = nn.Linear(model.fc.in_features, NUM_CLASSES)\n",
    "model = model.to(DEVICE)"
   ]
  },
  {
   "cell_type": "markdown",
   "id": "715edf69",
   "metadata": {},
   "source": [
    "Loads a pretrained ResNet18 from torchvision.\n",
    "\n",
    "Replaces the final fully connected (fc) layer to output NUM_CLASSES.\n",
    "\n",
    "Moves the model to the appropriate device (GPU or CPU).\n",
    "\n"
   ]
  },
  {
   "cell_type": "code",
   "execution_count": 8,
   "id": "5cd3ce1b",
   "metadata": {},
   "outputs": [],
   "source": [
    "criterion = nn.CrossEntropyLoss()\n",
    "optimizer = optim.Adam(model.parameters(), lr=1e-4)"
   ]
  },
  {
   "cell_type": "markdown",
   "id": "062c7c26",
   "metadata": {},
   "source": [
    "CrossEntropyLoss is standard for multi-class classification.\n",
    "\n",
    "Adam optimizer is used with a learning rate of 1e-4."
   ]
  },
  {
   "cell_type": "code",
   "execution_count": null,
   "id": "653c7f4a",
   "metadata": {},
   "outputs": [],
   "source": [
    "for epoch in range(NUM_EPOCHS):\n",
    "    model.train()\n",
    "    running_loss = 0.0\n",
    "    for images, labels in train_loader:\n",
    "        images, labels = images.to(DEVICE), labels.to(DEVICE)\n",
    "        optimizer.zero_grad()\n",
    "        outputs = model(images)\n",
    "        loss = criterion(outputs, labels)\n",
    "        loss.backward()\n",
    "        optimizer.step()\n",
    "        running_loss += loss.item()\n",
    "\n",
    "    print(f\"Epoch [{epoch+1}/{NUM_EPOCHS}], Loss: {running_loss/len(train_loader):.4f}\")\n",
    "torch.save(model.state_dict(), \"outputs/models/cnn_spectrogram_model.pth\")"
   ]
  },
  {
   "cell_type": "markdown",
   "id": "8ebccbd2",
   "metadata": {},
   "source": [
    "Iterates through epochs and batches.\n",
    "\n",
    "Performs forward pass, computes loss, backpropagates gradients, and updates weights.\n",
    "\n",
    "Logs average loss per epoch."
   ]
  },
  {
   "cell_type": "code",
   "execution_count": null,
   "id": "1c2ba464",
   "metadata": {},
   "outputs": [],
   "source": []
  },
  {
   "cell_type": "markdown",
   "id": "0d417249",
   "metadata": {},
   "source": [
    "Saves the model weights to disk for later use (e.g., prediction or fusion)."
   ]
  }
 ],
 "metadata": {
  "kernelspec": {
   "display_name": "venv",
   "language": "python",
   "name": "python3"
  },
  "language_info": {
   "codemirror_mode": {
    "name": "ipython",
    "version": 3
   },
   "file_extension": ".py",
   "mimetype": "text/x-python",
   "name": "python",
   "nbconvert_exporter": "python",
   "pygments_lexer": "ipython3",
   "version": "3.13.2"
  }
 },
 "nbformat": 4,
 "nbformat_minor": 5
}
